{
 "metadata": {
  "language_info": {
   "codemirror_mode": {
    "name": "ipython",
    "version": 3
   },
   "file_extension": ".py",
   "mimetype": "text/x-python",
   "name": "python",
   "nbconvert_exporter": "python",
   "pygments_lexer": "ipython3",
   "version": "3.7.4"
  },
  "orig_nbformat": 2,
  "kernelspec": {
   "name": "python374jvsc74a57bd095ab8c49c9e76b0b5a3cfb18193ff026242f515ba1735a2e8e124f7a20bcf623",
   "display_name": "Python 3.7.4 64-bit ('base': conda)"
  }
 },
 "nbformat": 4,
 "nbformat_minor": 2,
 "cells": [
  {
   "source": [
    "Compare GL SL ML "
   ],
   "cell_type": "markdown",
   "metadata": {}
  },
  {
   "cell_type": "code",
   "execution_count": 10,
   "metadata": {},
   "outputs": [
    {
     "output_type": "execute_result",
     "data": {
      "text/plain": [
       "      language  F1-score  Precision-score  Recall-score\n",
       "0       HEBREW  0.983046         0.999823      0.969852\n",
       "1       ARABIC  0.981503         0.995121      0.970614\n",
       "2   PORTUGUESE  0.967375         0.988982      0.951724\n",
       "3      ITALIAN  0.988722         0.997044      0.981939\n",
       "4       FRENCH  0.990103         0.995612      0.985251\n",
       "5      SPANISH  0.992900         0.998564      0.988019\n",
       "6       GERMAN  0.977840         0.985650      0.972004\n",
       "7      ENGLISH  0.883267         0.932127      0.851488\n",
       "8      RUSSIAN  0.993349         0.996135      0.991331\n",
       "9      FINNISH  0.968260         0.991203      0.953820\n",
       "10  VIETNAMESE  0.675883         0.692292      0.669003\n",
       "11      KOREAN  0.996794         0.998814      0.995369\n",
       "12     CHINESE  0.775833         0.781338      0.772710\n",
       "13    JAPANESE  0.923018         0.926177      0.921735"
      ],
      "text/html": "<div>\n<style scoped>\n    .dataframe tbody tr th:only-of-type {\n        vertical-align: middle;\n    }\n\n    .dataframe tbody tr th {\n        vertical-align: top;\n    }\n\n    .dataframe thead th {\n        text-align: right;\n    }\n</style>\n<table border=\"1\" class=\"dataframe\">\n  <thead>\n    <tr style=\"text-align: right;\">\n      <th></th>\n      <th>language</th>\n      <th>F1-score</th>\n      <th>Precision-score</th>\n      <th>Recall-score</th>\n    </tr>\n  </thead>\n  <tbody>\n    <tr>\n      <th>0</th>\n      <td>HEBREW</td>\n      <td>0.983046</td>\n      <td>0.999823</td>\n      <td>0.969852</td>\n    </tr>\n    <tr>\n      <th>1</th>\n      <td>ARABIC</td>\n      <td>0.981503</td>\n      <td>0.995121</td>\n      <td>0.970614</td>\n    </tr>\n    <tr>\n      <th>2</th>\n      <td>PORTUGUESE</td>\n      <td>0.967375</td>\n      <td>0.988982</td>\n      <td>0.951724</td>\n    </tr>\n    <tr>\n      <th>3</th>\n      <td>ITALIAN</td>\n      <td>0.988722</td>\n      <td>0.997044</td>\n      <td>0.981939</td>\n    </tr>\n    <tr>\n      <th>4</th>\n      <td>FRENCH</td>\n      <td>0.990103</td>\n      <td>0.995612</td>\n      <td>0.985251</td>\n    </tr>\n    <tr>\n      <th>5</th>\n      <td>SPANISH</td>\n      <td>0.992900</td>\n      <td>0.998564</td>\n      <td>0.988019</td>\n    </tr>\n    <tr>\n      <th>6</th>\n      <td>GERMAN</td>\n      <td>0.977840</td>\n      <td>0.985650</td>\n      <td>0.972004</td>\n    </tr>\n    <tr>\n      <th>7</th>\n      <td>ENGLISH</td>\n      <td>0.883267</td>\n      <td>0.932127</td>\n      <td>0.851488</td>\n    </tr>\n    <tr>\n      <th>8</th>\n      <td>RUSSIAN</td>\n      <td>0.993349</td>\n      <td>0.996135</td>\n      <td>0.991331</td>\n    </tr>\n    <tr>\n      <th>9</th>\n      <td>FINNISH</td>\n      <td>0.968260</td>\n      <td>0.991203</td>\n      <td>0.953820</td>\n    </tr>\n    <tr>\n      <th>10</th>\n      <td>VIETNAMESE</td>\n      <td>0.675883</td>\n      <td>0.692292</td>\n      <td>0.669003</td>\n    </tr>\n    <tr>\n      <th>11</th>\n      <td>KOREAN</td>\n      <td>0.996794</td>\n      <td>0.998814</td>\n      <td>0.995369</td>\n    </tr>\n    <tr>\n      <th>12</th>\n      <td>CHINESE</td>\n      <td>0.775833</td>\n      <td>0.781338</td>\n      <td>0.772710</td>\n    </tr>\n    <tr>\n      <th>13</th>\n      <td>JAPANESE</td>\n      <td>0.923018</td>\n      <td>0.926177</td>\n      <td>0.921735</td>\n    </tr>\n  </tbody>\n</table>\n</div>"
     },
     "metadata": {},
     "execution_count": 10
    }
   ],
   "source": [
    "s"
   ]
  },
  {
   "cell_type": "code",
   "execution_count": 64,
   "metadata": {},
   "outputs": [],
   "source": [
    "import pandas as pd\n",
    "s1 = pd.read_csv(\"/Users/qier/MasterThesis_Tokenization/results/3_SL.csv\").rename(columns={'Unnamed: 0':'language'})\n",
    "s2 = pd.read_csv(\"/Users/qier/MasterThesis_Tokenization/results/4_GL.csv\").rename(columns={'Unnamed: 0':'language'})\n",
    "s3 = pd.read_csv(\"/Users/qier/MasterThesis_Tokenization/results/2_e256.csv\").rename(columns={'Unnamed: 0':'language'})"
   ]
  },
  {
   "cell_type": "code",
   "execution_count": 70,
   "metadata": {},
   "outputs": [
    {
     "output_type": "execute_result",
     "data": {
      "text/plain": [
       "            F1-score\n",
       "language            \n",
       "HEBREW      0.985961\n",
       "ARABIC      0.987401\n",
       "PORTUGUESE  0.976536\n",
       "ITALIAN     0.995132\n",
       "FRENCH      0.993408\n",
       "SPANISH     0.998702\n",
       "GERMAN      0.982665\n",
       "ENGLISH     0.894218\n",
       "FINNISH     0.977041\n",
       "RUSSIAN     0.995523\n",
       "KOREAN      0.998697\n",
       "CHINESE     0.850392\n",
       "JAPANESE    0.924217\n",
       "VIETNAMESE  0.668235"
      ],
      "text/html": "<div>\n<style scoped>\n    .dataframe tbody tr th:only-of-type {\n        vertical-align: middle;\n    }\n\n    .dataframe tbody tr th {\n        vertical-align: top;\n    }\n\n    .dataframe thead th {\n        text-align: right;\n    }\n</style>\n<table border=\"1\" class=\"dataframe\">\n  <thead>\n    <tr style=\"text-align: right;\">\n      <th></th>\n      <th>F1-score</th>\n    </tr>\n    <tr>\n      <th>language</th>\n      <th></th>\n    </tr>\n  </thead>\n  <tbody>\n    <tr>\n      <th>HEBREW</th>\n      <td>0.985961</td>\n    </tr>\n    <tr>\n      <th>ARABIC</th>\n      <td>0.987401</td>\n    </tr>\n    <tr>\n      <th>PORTUGUESE</th>\n      <td>0.976536</td>\n    </tr>\n    <tr>\n      <th>ITALIAN</th>\n      <td>0.995132</td>\n    </tr>\n    <tr>\n      <th>FRENCH</th>\n      <td>0.993408</td>\n    </tr>\n    <tr>\n      <th>SPANISH</th>\n      <td>0.998702</td>\n    </tr>\n    <tr>\n      <th>GERMAN</th>\n      <td>0.982665</td>\n    </tr>\n    <tr>\n      <th>ENGLISH</th>\n      <td>0.894218</td>\n    </tr>\n    <tr>\n      <th>FINNISH</th>\n      <td>0.977041</td>\n    </tr>\n    <tr>\n      <th>RUSSIAN</th>\n      <td>0.995523</td>\n    </tr>\n    <tr>\n      <th>KOREAN</th>\n      <td>0.998697</td>\n    </tr>\n    <tr>\n      <th>CHINESE</th>\n      <td>0.850392</td>\n    </tr>\n    <tr>\n      <th>JAPANESE</th>\n      <td>0.924217</td>\n    </tr>\n    <tr>\n      <th>VIETNAMESE</th>\n      <td>0.668235</td>\n    </tr>\n  </tbody>\n</table>\n</div>"
     },
     "metadata": {},
     "execution_count": 70
    }
   ],
   "source": [
    "s2"
   ]
  },
  {
   "cell_type": "code",
   "execution_count": 65,
   "metadata": {},
   "outputs": [],
   "source": [
    "s1 = s1[['language','F1-score']].set_index('language')\n",
    "s2 = s2[['language','F1-score']].set_index('language')\n",
    "s3 = s3[['language','F1-score']].set_index('language')"
   ]
  },
  {
   "cell_type": "code",
   "execution_count": 84,
   "metadata": {},
   "outputs": [],
   "source": [
    "def highlight_max(s):\n",
    "    '''\n",
    "    highlight the maximum in a Series yellow.\n",
    "    '''\n",
    "    is_max = s == s.max()\n",
    "    return ['background-color: yellow' if v else '' for v in is_max]"
   ]
  },
  {
   "cell_type": "code",
   "execution_count": 94,
   "metadata": {},
   "outputs": [],
   "source": [
    "df = pd.concat([s1,s2,s3],axis=1,sort=False)\n",
    "df.columns = ['SL','GL','ML']\n",
    "# df['Group'] = [1,1,2,2,2,2,2,2,3,2,4,3,5,5]\n",
    "# df.groupby('Group').mean()\n"
   ]
  },
  {
   "cell_type": "code",
   "execution_count": 99,
   "metadata": {},
   "outputs": [
    {
     "output_type": "execute_result",
     "data": {
      "text/plain": [
       "<pandas.io.formats.style.Styler at 0x7ff7a3693e10>"
      ],
      "text/html": "<style  type=\"text/css\" >\n    #T_a275e37a_97d7_11eb_832e_8c85904e58acrow0_col2 {\n            background-color:  yellow;\n        }    #T_a275e37a_97d7_11eb_832e_8c85904e58acrow1_col2 {\n            background-color:  yellow;\n        }    #T_a275e37a_97d7_11eb_832e_8c85904e58acrow2_col2 {\n            background-color:  yellow;\n        }    #T_a275e37a_97d7_11eb_832e_8c85904e58acrow3_col1 {\n            background-color:  yellow;\n        }    #T_a275e37a_97d7_11eb_832e_8c85904e58acrow4_col1 {\n            background-color:  yellow;\n        }    #T_a275e37a_97d7_11eb_832e_8c85904e58acrow5_col2 {\n            background-color:  yellow;\n        }    #T_a275e37a_97d7_11eb_832e_8c85904e58acrow6_col2 {\n            background-color:  yellow;\n        }    #T_a275e37a_97d7_11eb_832e_8c85904e58acrow7_col2 {\n            background-color:  yellow;\n        }    #T_a275e37a_97d7_11eb_832e_8c85904e58acrow8_col2 {\n            background-color:  yellow;\n        }    #T_a275e37a_97d7_11eb_832e_8c85904e58acrow9_col1 {\n            background-color:  yellow;\n        }    #T_a275e37a_97d7_11eb_832e_8c85904e58acrow10_col2 {\n            background-color:  yellow;\n        }    #T_a275e37a_97d7_11eb_832e_8c85904e58acrow11_col1 {\n            background-color:  yellow;\n        }    #T_a275e37a_97d7_11eb_832e_8c85904e58acrow12_col1 {\n            background-color:  yellow;\n        }    #T_a275e37a_97d7_11eb_832e_8c85904e58acrow13_col1 {\n            background-color:  yellow;\n        }</style><table id=\"T_a275e37a_97d7_11eb_832e_8c85904e58ac\" ><thead>    <tr>        <th class=\"blank level0\" ></th>        <th class=\"col_heading level0 col0\" >SL</th>        <th class=\"col_heading level0 col1\" >GL</th>        <th class=\"col_heading level0 col2\" >ML</th>    </tr></thead><tbody>\n                <tr>\n                        <th id=\"T_a275e37a_97d7_11eb_832e_8c85904e58aclevel0_row0\" class=\"row_heading level0 row0\" >HEBREW</th>\n                        <td id=\"T_a275e37a_97d7_11eb_832e_8c85904e58acrow0_col0\" class=\"data row0 col0\" >0.983046</td>\n                        <td id=\"T_a275e37a_97d7_11eb_832e_8c85904e58acrow0_col1\" class=\"data row0 col1\" >0.985961</td>\n                        <td id=\"T_a275e37a_97d7_11eb_832e_8c85904e58acrow0_col2\" class=\"data row0 col2\" >0.999824</td>\n            </tr>\n            <tr>\n                        <th id=\"T_a275e37a_97d7_11eb_832e_8c85904e58aclevel0_row1\" class=\"row_heading level0 row1\" >ARABIC</th>\n                        <td id=\"T_a275e37a_97d7_11eb_832e_8c85904e58acrow1_col0\" class=\"data row1 col0\" >0.981503</td>\n                        <td id=\"T_a275e37a_97d7_11eb_832e_8c85904e58acrow1_col1\" class=\"data row1 col1\" >0.987401</td>\n                        <td id=\"T_a275e37a_97d7_11eb_832e_8c85904e58acrow1_col2\" class=\"data row1 col2\" >0.990924</td>\n            </tr>\n            <tr>\n                        <th id=\"T_a275e37a_97d7_11eb_832e_8c85904e58aclevel0_row2\" class=\"row_heading level0 row2\" >PORTUGUESE</th>\n                        <td id=\"T_a275e37a_97d7_11eb_832e_8c85904e58acrow2_col0\" class=\"data row2 col0\" >0.967375</td>\n                        <td id=\"T_a275e37a_97d7_11eb_832e_8c85904e58acrow2_col1\" class=\"data row2 col1\" >0.976536</td>\n                        <td id=\"T_a275e37a_97d7_11eb_832e_8c85904e58acrow2_col2\" class=\"data row2 col2\" >0.97762</td>\n            </tr>\n            <tr>\n                        <th id=\"T_a275e37a_97d7_11eb_832e_8c85904e58aclevel0_row3\" class=\"row_heading level0 row3\" >ITALIAN</th>\n                        <td id=\"T_a275e37a_97d7_11eb_832e_8c85904e58acrow3_col0\" class=\"data row3 col0\" >0.988722</td>\n                        <td id=\"T_a275e37a_97d7_11eb_832e_8c85904e58acrow3_col1\" class=\"data row3 col1\" >0.995132</td>\n                        <td id=\"T_a275e37a_97d7_11eb_832e_8c85904e58acrow3_col2\" class=\"data row3 col2\" >0.993291</td>\n            </tr>\n            <tr>\n                        <th id=\"T_a275e37a_97d7_11eb_832e_8c85904e58aclevel0_row4\" class=\"row_heading level0 row4\" >FRENCH</th>\n                        <td id=\"T_a275e37a_97d7_11eb_832e_8c85904e58acrow4_col0\" class=\"data row4 col0\" >0.990103</td>\n                        <td id=\"T_a275e37a_97d7_11eb_832e_8c85904e58acrow4_col1\" class=\"data row4 col1\" >0.993408</td>\n                        <td id=\"T_a275e37a_97d7_11eb_832e_8c85904e58acrow4_col2\" class=\"data row4 col2\" >0.993284</td>\n            </tr>\n            <tr>\n                        <th id=\"T_a275e37a_97d7_11eb_832e_8c85904e58aclevel0_row5\" class=\"row_heading level0 row5\" >SPANISH</th>\n                        <td id=\"T_a275e37a_97d7_11eb_832e_8c85904e58acrow5_col0\" class=\"data row5 col0\" >0.9929</td>\n                        <td id=\"T_a275e37a_97d7_11eb_832e_8c85904e58acrow5_col1\" class=\"data row5 col1\" >0.998702</td>\n                        <td id=\"T_a275e37a_97d7_11eb_832e_8c85904e58acrow5_col2\" class=\"data row5 col2\" >0.99873</td>\n            </tr>\n            <tr>\n                        <th id=\"T_a275e37a_97d7_11eb_832e_8c85904e58aclevel0_row6\" class=\"row_heading level0 row6\" >GERMAN</th>\n                        <td id=\"T_a275e37a_97d7_11eb_832e_8c85904e58acrow6_col0\" class=\"data row6 col0\" >0.97784</td>\n                        <td id=\"T_a275e37a_97d7_11eb_832e_8c85904e58acrow6_col1\" class=\"data row6 col1\" >0.982665</td>\n                        <td id=\"T_a275e37a_97d7_11eb_832e_8c85904e58acrow6_col2\" class=\"data row6 col2\" >0.984348</td>\n            </tr>\n            <tr>\n                        <th id=\"T_a275e37a_97d7_11eb_832e_8c85904e58aclevel0_row7\" class=\"row_heading level0 row7\" >ENGLISH</th>\n                        <td id=\"T_a275e37a_97d7_11eb_832e_8c85904e58acrow7_col0\" class=\"data row7 col0\" >0.883267</td>\n                        <td id=\"T_a275e37a_97d7_11eb_832e_8c85904e58acrow7_col1\" class=\"data row7 col1\" >0.894218</td>\n                        <td id=\"T_a275e37a_97d7_11eb_832e_8c85904e58acrow7_col2\" class=\"data row7 col2\" >0.898668</td>\n            </tr>\n            <tr>\n                        <th id=\"T_a275e37a_97d7_11eb_832e_8c85904e58aclevel0_row8\" class=\"row_heading level0 row8\" >RUSSIAN</th>\n                        <td id=\"T_a275e37a_97d7_11eb_832e_8c85904e58acrow8_col0\" class=\"data row8 col0\" >0.993349</td>\n                        <td id=\"T_a275e37a_97d7_11eb_832e_8c85904e58acrow8_col1\" class=\"data row8 col1\" >0.995523</td>\n                        <td id=\"T_a275e37a_97d7_11eb_832e_8c85904e58acrow8_col2\" class=\"data row8 col2\" >0.995976</td>\n            </tr>\n            <tr>\n                        <th id=\"T_a275e37a_97d7_11eb_832e_8c85904e58aclevel0_row9\" class=\"row_heading level0 row9\" >FINNISH</th>\n                        <td id=\"T_a275e37a_97d7_11eb_832e_8c85904e58acrow9_col0\" class=\"data row9 col0\" >0.96826</td>\n                        <td id=\"T_a275e37a_97d7_11eb_832e_8c85904e58acrow9_col1\" class=\"data row9 col1\" >0.977041</td>\n                        <td id=\"T_a275e37a_97d7_11eb_832e_8c85904e58acrow9_col2\" class=\"data row9 col2\" >0.976729</td>\n            </tr>\n            <tr>\n                        <th id=\"T_a275e37a_97d7_11eb_832e_8c85904e58aclevel0_row10\" class=\"row_heading level0 row10\" >VIETNAMESE</th>\n                        <td id=\"T_a275e37a_97d7_11eb_832e_8c85904e58acrow10_col0\" class=\"data row10 col0\" >0.675883</td>\n                        <td id=\"T_a275e37a_97d7_11eb_832e_8c85904e58acrow10_col1\" class=\"data row10 col1\" >0.668235</td>\n                        <td id=\"T_a275e37a_97d7_11eb_832e_8c85904e58acrow10_col2\" class=\"data row10 col2\" >0.762234</td>\n            </tr>\n            <tr>\n                        <th id=\"T_a275e37a_97d7_11eb_832e_8c85904e58aclevel0_row11\" class=\"row_heading level0 row11\" >KOREAN</th>\n                        <td id=\"T_a275e37a_97d7_11eb_832e_8c85904e58acrow11_col0\" class=\"data row11 col0\" >0.996794</td>\n                        <td id=\"T_a275e37a_97d7_11eb_832e_8c85904e58acrow11_col1\" class=\"data row11 col1\" >0.998697</td>\n                        <td id=\"T_a275e37a_97d7_11eb_832e_8c85904e58acrow11_col2\" class=\"data row11 col2\" >0.998666</td>\n            </tr>\n            <tr>\n                        <th id=\"T_a275e37a_97d7_11eb_832e_8c85904e58aclevel0_row12\" class=\"row_heading level0 row12\" >CHINESE</th>\n                        <td id=\"T_a275e37a_97d7_11eb_832e_8c85904e58acrow12_col0\" class=\"data row12 col0\" >0.775833</td>\n                        <td id=\"T_a275e37a_97d7_11eb_832e_8c85904e58acrow12_col1\" class=\"data row12 col1\" >0.850392</td>\n                        <td id=\"T_a275e37a_97d7_11eb_832e_8c85904e58acrow12_col2\" class=\"data row12 col2\" >0.806279</td>\n            </tr>\n            <tr>\n                        <th id=\"T_a275e37a_97d7_11eb_832e_8c85904e58aclevel0_row13\" class=\"row_heading level0 row13\" >JAPANESE</th>\n                        <td id=\"T_a275e37a_97d7_11eb_832e_8c85904e58acrow13_col0\" class=\"data row13 col0\" >0.923018</td>\n                        <td id=\"T_a275e37a_97d7_11eb_832e_8c85904e58acrow13_col1\" class=\"data row13 col1\" >0.924217</td>\n                        <td id=\"T_a275e37a_97d7_11eb_832e_8c85904e58acrow13_col2\" class=\"data row13 col2\" >0.887034</td>\n            </tr>\n    </tbody></table>"
     },
     "metadata": {},
     "execution_count": 99
    }
   ],
   "source": [
    "df.style.apply(highlight_max,axis=1)"
   ]
  },
  {
   "cell_type": "code",
   "execution_count": null,
   "metadata": {},
   "outputs": [],
   "source": [
    "# plot out the loss & Recall/F1 Score along the "
   ]
  }
 ]
}